{
  "nbformat": 4,
  "nbformat_minor": 0,
  "metadata": {
    "colab": {
      "provenance": []
    },
    "kernelspec": {
      "name": "python3",
      "display_name": "Python 3"
    },
    "language_info": {
      "name": "python"
    }
  },
  "cells": [
    {
      "cell_type": "markdown",
      "source": [
        "#Prompt Example\n",
        "\n",
        "This Prompt Helps to create three questions from a single document"
      ],
      "metadata": {
        "id": "RIDfHXo2DN2M"
      }
    },
    {
      "cell_type": "code",
      "source": [
        "!pip install openai"
      ],
      "metadata": {
        "colab": {
          "base_uri": "https://localhost:8080/"
        },
        "id": "lHyr2wouGdlE",
        "outputId": "ab9f0bcf-6447-49b4-e80c-231264e8a117"
      },
      "execution_count": 1,
      "outputs": [
        {
          "output_type": "stream",
          "name": "stdout",
          "text": [
            "Collecting openai\n",
            "  Downloading openai-1.11.1-py3-none-any.whl (226 kB)\n",
            "\u001b[2K     \u001b[90m━━━━━━━━━━━━━━━━━━━━━━━━━━━━━━━━━━━━━━━━\u001b[0m \u001b[32m226.1/226.1 kB\u001b[0m \u001b[31m3.1 MB/s\u001b[0m eta \u001b[36m0:00:00\u001b[0m\n",
            "\u001b[?25hRequirement already satisfied: anyio<5,>=3.5.0 in /usr/local/lib/python3.10/dist-packages (from openai) (3.7.1)\n",
            "Requirement already satisfied: distro<2,>=1.7.0 in /usr/lib/python3/dist-packages (from openai) (1.7.0)\n",
            "Collecting httpx<1,>=0.23.0 (from openai)\n",
            "  Downloading httpx-0.26.0-py3-none-any.whl (75 kB)\n",
            "\u001b[2K     \u001b[90m━━━━━━━━━━━━━━━━━━━━━━━━━━━━━━━━━━━━━━━━\u001b[0m \u001b[32m75.9/75.9 kB\u001b[0m \u001b[31m8.1 MB/s\u001b[0m eta \u001b[36m0:00:00\u001b[0m\n",
            "\u001b[?25hRequirement already satisfied: pydantic<3,>=1.9.0 in /usr/local/lib/python3.10/dist-packages (from openai) (2.6.0)\n",
            "Requirement already satisfied: sniffio in /usr/local/lib/python3.10/dist-packages (from openai) (1.3.0)\n",
            "Requirement already satisfied: tqdm>4 in /usr/local/lib/python3.10/dist-packages (from openai) (4.66.1)\n",
            "Requirement already satisfied: typing-extensions<5,>=4.7 in /usr/local/lib/python3.10/dist-packages (from openai) (4.9.0)\n",
            "Requirement already satisfied: idna>=2.8 in /usr/local/lib/python3.10/dist-packages (from anyio<5,>=3.5.0->openai) (3.6)\n",
            "Requirement already satisfied: exceptiongroup in /usr/local/lib/python3.10/dist-packages (from anyio<5,>=3.5.0->openai) (1.2.0)\n",
            "Requirement already satisfied: certifi in /usr/local/lib/python3.10/dist-packages (from httpx<1,>=0.23.0->openai) (2024.2.2)\n",
            "Collecting httpcore==1.* (from httpx<1,>=0.23.0->openai)\n",
            "  Downloading httpcore-1.0.2-py3-none-any.whl (76 kB)\n",
            "\u001b[2K     \u001b[90m━━━━━━━━━━━━━━━━━━━━━━━━━━━━━━━━━━━━━━━━\u001b[0m \u001b[32m76.9/76.9 kB\u001b[0m \u001b[31m8.8 MB/s\u001b[0m eta \u001b[36m0:00:00\u001b[0m\n",
            "\u001b[?25hCollecting h11<0.15,>=0.13 (from httpcore==1.*->httpx<1,>=0.23.0->openai)\n",
            "  Downloading h11-0.14.0-py3-none-any.whl (58 kB)\n",
            "\u001b[2K     \u001b[90m━━━━━━━━━━━━━━━━━━━━━━━━━━━━━━━━━━━━━━━━\u001b[0m \u001b[32m58.3/58.3 kB\u001b[0m \u001b[31m6.5 MB/s\u001b[0m eta \u001b[36m0:00:00\u001b[0m\n",
            "\u001b[?25hRequirement already satisfied: annotated-types>=0.4.0 in /usr/local/lib/python3.10/dist-packages (from pydantic<3,>=1.9.0->openai) (0.6.0)\n",
            "Requirement already satisfied: pydantic-core==2.16.1 in /usr/local/lib/python3.10/dist-packages (from pydantic<3,>=1.9.0->openai) (2.16.1)\n",
            "Installing collected packages: h11, httpcore, httpx, openai\n",
            "\u001b[31mERROR: pip's dependency resolver does not currently take into account all the packages that are installed. This behaviour is the source of the following dependency conflicts.\n",
            "llmx 0.0.15a0 requires cohere, which is not installed.\n",
            "llmx 0.0.15a0 requires tiktoken, which is not installed.\u001b[0m\u001b[31m\n",
            "\u001b[0mSuccessfully installed h11-0.14.0 httpcore-1.0.2 httpx-0.26.0 openai-1.11.1\n"
          ]
        }
      ]
    },
    {
      "cell_type": "code",
      "execution_count": 60,
      "metadata": {
        "id": "U96yvAWtDHce"
      },
      "outputs": [],
      "source": [
        "def get_prompt(docuemnt: str):\n",
        "  return f''' You are a bot specialized in generating questions for high school students through the following steps:\n",
        "  step 1: the docuement is given between the delimiters ###.\n",
        "  step 2: generate three multiple choice questions with three different difficulties -First is easy, second is medium, and third is hard.\n",
        "  step 3: generate fill the gaps question that contains gap to be filled.\n",
        "  step 4: generate a description question which can be answered from the text\n",
        "  step 5: return the answer in the same structure as this JSON:{{\n",
        "      \"mcq_question_1\": {{\n",
        "        \"text\": \"mcq_question_1 text\",\n",
        "        \"answer_a\": \"sample answer for the mcq_question_1\",\n",
        "        \"answer_b\": \"sample answer for the mcq_question_1\",\n",
        "        \"answer_c\": \"sample answer for the mcq_question_1\",\n",
        "        \"correct_answer\": \"the correct answer of the mcq_question_1\"\n",
        "      }},\n",
        "      \"mcq_question_2\": {{\n",
        "        \"text\": \"mcq_question_2 text\",\n",
        "        \"answer_a\": \"sample answer for the mcq_question_2\",\n",
        "        \"answer_b\": \"sample answer for the mcq_question_2\",\n",
        "        \"answer_c\": \"sample answer for the mcq_question_2\",\n",
        "        \"correct_answer\": \"the correct answer of the mcq_question_2\"\n",
        "      }},\n",
        "      \"mcq_question_3\": {{\n",
        "        \"text\": \"mcq_question_3 text\",\n",
        "        \"answer_a\": \"sample answer for the mcq_question_3\",\n",
        "        \"answer_b\": \"sample answer for the mcq_question_3\",\n",
        "        \"answer_c\": \"sample answer for the mcq_question_3\",\n",
        "        \"correct_answer\": \"the correct answer of the mcq_question_3\"\n",
        "      }},\n",
        "      \"fill_the_gap\": {{\n",
        "        \"text\":\"fill_the_gap text\",\n",
        "        \"answer\": \"answer for the gap\",\n",
        "      }},\n",
        "      \"description_question\": {{\n",
        "        \"text\":\"description_question text\",\n",
        "        \"answer\": \"main points in the answer for the question\"\n",
        "      }},\n",
        "  }}\n",
        "\n",
        "  The docuemnt:\n",
        "  ###\n",
        "  {docuemnt}\n",
        "  ###\n",
        "  '''"
      ]
    },
    {
      "cell_type": "code",
      "source": [
        "from openai import OpenAI\n",
        "client = OpenAI(\n",
        "    api_key='Enter you OPENAI API KEY'\n",
        ")\n",
        "\n",
        "def get_completion(prompt, model=\"gpt-3.5-turbo\"):\n",
        "    messages = [{\"role\": \"user\", \"content\": prompt}]\n",
        "    response = client.chat.completions.create(\n",
        "        model=model,\n",
        "        messages=messages,\n",
        "        temperature=0,\n",
        "    )\n",
        "    return response.choices[0].message.content"
      ],
      "metadata": {
        "id": "37gnzn8HE-Vo"
      },
      "execution_count": 61,
      "outputs": []
    },
    {
      "cell_type": "code",
      "source": [
        "prompt = get_prompt('''United Arab Emirates, federation of seven emirates along the eastern coast of the Arabian Peninsula.\n",
        "The largest of these emirates, Abu Dhabi (Abū Ẓaby), which comprises more than three-fourths of the federation’s total land area, is the centre of its oil industry and borders Saudi Arabia on the federation’s southern and eastern borders. The port city of Dubai, located at the base of the mountainous Musandam Peninsula, is the capital of the emirate of Dubai (Dubayy) and is one of the region’s most vital commercial and financial centres, housing hundreds of multinational corporations in a forest of skyscrapers. The smaller emirates of Sharjah (Al-Shāriqah), ʿAjman (ʿAjmān), Umm al-Quwain (Umm al-Qaywayn), and Ras al-Khaimah (Raʾs al-Khaymah) also occupy the peninsula, whose protrusion north toward Iran forms the Strait of Hormuz linking the Persian Gulf to the Gulf of Oman. The federation’s seventh member, Fujairah (Al-Fujayrah), faces the Gulf of Oman and is the only member of the union with no frontage along the Persian Gulf.\n",
        "\n",
        "Historically the domain of individual Arab clans and families, the region now comprising the emirates also has been influenced by Persian culture owing to its close proximity to Iran, and its porous maritime borders have for centuries invited migrants and traders from elsewhere. In the 18th century, Portugal and the Netherlands extended their holdings in the region but retreated with the growth of British naval power there; following a series of truces with Britain in the 19th century, the emirates united to form the Trucial States (also called Trucial Oman or the Trucial Sheikhdoms). The states gained autonomy following World War II (1939–45), when the trucial states of Bahrain and Qatar declared independent statehood. The rest were formally united in 1971, with the city of Abu Dhabi serving as the capital. The stability of the federation has since been tested by rivalries between the families governing the larger states of Abu Dhabi and Dubai, though external events such as the Persian Gulf War (1990–91) and an ongoing territorial dispute with Iran have served to strengthen the emirates’ political cohesion.\n",
        "''')"
      ],
      "metadata": {
        "id": "FnDDYqN4HYOs"
      },
      "execution_count": 62,
      "outputs": []
    },
    {
      "cell_type": "code",
      "source": [
        "print(get_completion(prompt))"
      ],
      "metadata": {
        "colab": {
          "base_uri": "https://localhost:8080/"
        },
        "id": "0lqXgbYTHoQ8",
        "outputId": "76a530c8-d430-484f-d667-a9d4bdb9c0d7"
      },
      "execution_count": 63,
      "outputs": [
        {
          "output_type": "stream",
          "name": "stdout",
          "text": [
            "{\n",
            "  \"mcq_question_1\": {\n",
            "    \"text\": \"What is the capital of the United Arab Emirates?\",\n",
            "    \"answer_a\": \"Dubai\",\n",
            "    \"answer_b\": \"Abu Dhabi\",\n",
            "    \"answer_c\": \"Sharjah\",\n",
            "    \"correct_answer\": \"Abu Dhabi\"\n",
            "  },\n",
            "  \"mcq_question_2\": {\n",
            "    \"text\": \"Which emirate comprises more than three-fourths of the federation's total land area?\",\n",
            "    \"answer_a\": \"Dubai\",\n",
            "    \"answer_b\": \"Abu Dhabi\",\n",
            "    \"answer_c\": \"Sharjah\",\n",
            "    \"correct_answer\": \"Abu Dhabi\"\n",
            "  },\n",
            "  \"mcq_question_3\": {\n",
            "    \"text\": \"Which emirate is the only member of the union with no frontage along the Persian Gulf?\",\n",
            "    \"answer_a\": \"Fujairah\",\n",
            "    \"answer_b\": \"Ras al-Khaimah\",\n",
            "    \"answer_c\": \"Umm al-Quwain\",\n",
            "    \"correct_answer\": \"Fujairah\"\n",
            "  },\n",
            "  \"fill_the_gap\": {\n",
            "    \"text\": \"The port city of ________ is the capital of the emirate of Dubai.\",\n",
            "    \"answer\": \"Dubai\"\n",
            "  },\n",
            "  \"description_question\": {\n",
            "    \"text\": \"What is the Strait of Hormuz?\",\n",
            "    \"answer\": \"The Strait of Hormuz is a narrow waterway that links the Persian Gulf to the Gulf of Oman.\"\n",
            "  }\n",
            "}\n"
          ]
        }
      ]
    },
    {
      "cell_type": "code",
      "source": [],
      "metadata": {
        "id": "gTFctblWObXU"
      },
      "execution_count": null,
      "outputs": []
    }
  ]
}
